version https://git-lfs.github.com/spec/v1
oid sha256:932c2b584b32d610d7343ca2f339f7fac29ca14f5903ca431d7e7e57ae9498a7
size 27424
