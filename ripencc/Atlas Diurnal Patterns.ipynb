version https://git-lfs.github.com/spec/v1
oid sha256:8e117c7a4f59f158805d9c046068ac8e8d068017abefe865c1c8f057d8907fe8
size 23764864
