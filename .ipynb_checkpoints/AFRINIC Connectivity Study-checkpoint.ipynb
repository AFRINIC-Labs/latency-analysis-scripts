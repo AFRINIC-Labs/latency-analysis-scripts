{
 "cells": [
  {
   "cell_type": "markdown",
   "metadata": {},
   "source": [
    "# Heatmap"
   ]
  },
  {
   "cell_type": "code",
   "execution_count": 1,
   "metadata": {},
   "outputs": [
    {
     "name": "stderr",
     "output_type": "stream",
     "text": [
      "/usr/local/lib/python2.7/site-packages/matplotlib/font_manager.py:281: UserWarning: Matplotlib is building the font cache using fc-list. This may take a moment.\n",
      "  'Matplotlib is building the font cache using fc-list. '\n"
     ]
    },
    {
     "ename": "ImportError",
     "evalue": "No module named simon_app.models.models",
     "output_type": "error",
     "traceback": [
      "\u001b[0;31m---------------------------------------------------------------------------\u001b[0m",
      "\u001b[0;31mImportError\u001b[0m                               Traceback (most recent call last)",
      "\u001b[0;32m<ipython-input-1-fae19b6a033c>\u001b[0m in \u001b[0;36m<module>\u001b[0;34m()\u001b[0m\n\u001b[1;32m      3\u001b[0m \u001b[0;32mimport\u001b[0m \u001b[0mmatplotlib\u001b[0m\u001b[0;34m.\u001b[0m\u001b[0mpyplot\u001b[0m \u001b[0;32mas\u001b[0m \u001b[0mpyplot\u001b[0m\u001b[0;34m\u001b[0m\u001b[0m\n\u001b[1;32m      4\u001b[0m \u001b[0;32mimport\u001b[0m \u001b[0mnumpy\u001b[0m\u001b[0;34m\u001b[0m\u001b[0m\n\u001b[0;32m----> 5\u001b[0;31m \u001b[0;32mfrom\u001b[0m \u001b[0msimon_app\u001b[0m\u001b[0;34m.\u001b[0m\u001b[0mmodels\u001b[0m\u001b[0;34m.\u001b[0m\u001b[0mmodels\u001b[0m \u001b[0;32mimport\u001b[0m \u001b[0;34m*\u001b[0m\u001b[0;34m\u001b[0m\u001b[0m\n\u001b[0m",
      "\u001b[0;31mImportError\u001b[0m: No module named simon_app.models.models"
     ]
    }
   ],
   "source": [
    "%matplotlib inline\n",
    "\n",
    "import matplotlib.pyplot as pyplot\n",
    "import numpy\n",
    "from simon_app.models.models import *"
   ]
  },
  {
   "cell_type": "code",
   "execution_count": 2,
   "metadata": {},
   "outputs": [],
   "source": [
    "from simon_app.management.commands.heatmap import *\n",
    "from datetime import datetime, timedelta\n",
    "from simon_app.reportes import GMTUY\n",
    "\n",
    "to = datetime.now()\n",
    "d = timedelta(days=365*1.5)\n",
    "from_ = to - d"
   ]
  },
  {
   "cell_type": "code",
   "execution_count": 3,
   "metadata": {},
   "outputs": [
    {
     "name": "stderr",
     "output_type": "stream",
     "text": [
      "/Users/agustin/Virtualenvs/simon/lib/python2.7/site-packages/django/db/models/fields/__init__.py:1278: RuntimeWarning: DateTimeField Results.date_test received a naive datetime (2015-04-16 04:28:33.159750) while time zone support is active.\n",
      "  RuntimeWarning)\n",
      "\n",
      "/Users/agustin/Virtualenvs/simon/lib/python2.7/site-packages/django/db/models/fields/__init__.py:1278: RuntimeWarning: DateTimeField Results.date_test received a naive datetime (2015-04-16 04:28:33.159750) while time zone support is active.\n",
      "  RuntimeWarning)\n",
      "\n",
      "/Users/agustin/Virtualenvs/simon/lib/python2.7/site-packages/django/db/models/fields/__init__.py:1278: RuntimeWarning: DateTimeField Results.date_test received a naive datetime (2016-10-14 16:28:33.159750) while time zone support is active.\n",
      "  RuntimeWarning)\n",
      "\n",
      "/Users/agustin/Virtualenvs/simon/lib/python2.7/site-packages/django/db/models/fields/__init__.py:1278: RuntimeWarning: DateTimeField Results.date_test received a naive datetime (2016-10-14 16:28:33.159750) while time zone support is active.\n",
      "  RuntimeWarning)\n",
      "\n"
     ]
    }
   ],
   "source": [
    "ccs = Country.objects.get_afrinic_countrycodes()\n",
    "results = Results.objects.probeapi()\\\n",
    "                        .filter(date_test__gte=from_)\\\n",
    "                        .filter(date_test__lte=to)\\\n",
    "                        .filter(country_origin__in=ccs)\\\n",
    "                        .filter(country_destination__in=ccs)"
   ]
  },
  {
   "cell_type": "code",
   "execution_count": null,
   "metadata": {},
   "outputs": [],
   "source": [
    "dictionary = build_dict(results, ccs=ccs)"
   ]
  },
  {
   "cell_type": "code",
   "execution_count": null,
   "metadata": {},
   "outputs": [],
   "source": [
    "from matplotlib import pyplot as plt\n",
    "import numpy as np\n",
    "import matplotlib\n",
    "from datetime import datetime\n",
    "from simon_project.settings import STATIC_ROOT, DEBUG\n",
    "from collections import defaultdict\n",
    "\n",
    "def cluster_sort(key):\n",
    "        INVALID = 10\n",
    "        d = {'BF': 0, 'DJ': 1, 'BI': 2, 'BJ': 3, 'BW': 2, 'DZ': 1, 'ET': 1, 'YT': 1, 'RW': 2, 'TZ': 2, 'CM': 0, 'NA': 2, 'CD': 0, 'NE': 2, 'NG': 0, 'TN': 1, 'RE': 1, 'LR': 0, 'LS': 2, 'TG': 3, 'TD': 1, 'LY': 1, 'ZM': 2, 'CI': 1, 'GQ': 1, 'EG': 1, 'SL': 0, 'CG': 0, 'CF': 1, 'AO': 1, 'ZA': 2, 'GA': 1, 'GN': 0, 'GM': 0, 'ZW': 2, 'CV': 1, 'GH': 0, 'SZ': 2, 'MG': 1, 'MA': 1, 'KE': 2, 'ML': 1, 'KM': 0, 'ST': 0, 'MU': 2, 'MW': 2, 'SO': 1, 'SN': 1, 'MR': 0, 'SC': 1, 'UG': 2, 'MZ': 2, 'SD': 1}\n",
    "        try:\n",
    "            return d[key]\n",
    "        except:\n",
    "            return INVALID\n",
    "    \n",
    "d_region = defaultdict(int)\n",
    "for i, name in enumerate([\"Northern Africa\", \"Eastern Africa\", \"Southern Africa\", \"Western Africa\", \"Middle Africa\"]):\n",
    "    ccs = Country.objects.get_countries_from_region(region=[Region.objects.get(name=name).id]).values_list('iso', flat=True)\n",
    "    for cc in ccs:\n",
    "        d_region[cc.encode('utf-8')] = i\n",
    "def region_sort(key):\n",
    "    return d_region[key]\n",
    "\n",
    "def build_heatmap(dictionary, filename, plot_text=True, figsize=(12, 12), _max=400, _min=0, banned=[], sort=None, title=\"\", zero_colour=True, cmap=plt.cm.Blues):\n",
    "    \n",
    "    if not DEBUG:\n",
    "        matplotlib.use('Agg')\n",
    "    \n",
    "#     build an empty matrix first\n",
    "    origins = []\n",
    "    destinations = []\n",
    "    n = 0\n",
    "    for o in sorted(dictionary):\n",
    "        if o in banned: continue\n",
    "\n",
    "        if o not in origins:\n",
    "            origins.append(o)\n",
    "\n",
    "        for d in sorted(dictionary[o]):\n",
    "            if d in banned: continue\n",
    "\n",
    "            if d not in destinations:\n",
    "                destinations.append(d)\n",
    "\n",
    "#     Apply sorting\n",
    "    if sort != None:\n",
    "        origins = sorted(origins, key=sort)\n",
    "        destinations = sorted(destinations, key=sort)\n",
    "\n",
    "    res = []\n",
    "    n = 0\n",
    "    N = len(origins) * len(destinations)\n",
    "    for o in origins:\n",
    "        for d in destinations:\n",
    "            try:\n",
    "                rtt = dictionary[o][d]\n",
    "                if _max == 0 and _min == 0:  # unbounded\n",
    "                    rtt = rtt\n",
    "                elif _min < rtt < _max:\n",
    "                    rtt = rtt\n",
    "                else:\n",
    "                    rtt = 0\n",
    "            except:\n",
    "                rtt = 0\n",
    "            finally:\n",
    "                res.append(rtt)\n",
    "                    \n",
    "                n += 1\n",
    "                sys.stdout.write(\"\\r Preparing Data (1/2) %.1f%%\" % (100 * float(n / N)))\n",
    "                sys.stdout.flush()\n",
    "\n",
    "    print \"\"\n",
    "    print \"Painting matrix (2/2)\"\n",
    "\n",
    "    data = np.reshape(res, (len(origins), len(destinations)))\n",
    "    fig, ax = plt.subplots(figsize=figsize, dpi=500)\n",
    "\n",
    "    # extract all colors from the .jet map\n",
    "    cmaplist = [cmap(i) for i in range(cmap.N)]\n",
    "    if zero_colour:\n",
    "        cmaplist[0] = plt.cm.Greys(10)\n",
    "    cmap = cmap.from_list('Custom cmap', cmaplist, cmap.N)\n",
    "        \n",
    "    # define the bins and normalize\n",
    "#     if _max and _min:\n",
    "    bounds = np.linspace(_min, _max, _max+1)\n",
    "    norm = matplotlib.colors.BoundaryNorm(bounds, cmap.N)\n",
    "    \n",
    "    heatmap = ax.pcolor(data, cmap=cmap, norm=norm)\n",
    "    \n",
    "    if plot_text:\n",
    "        for y in range(data.shape[0]):\n",
    "            for x in range(data.shape[1]):\n",
    "                plt.text(x + 0.5, y + 0.5, \"%.0f\" % data[y, x],\n",
    "                         horizontalalignment='center',\n",
    "                         verticalalignment='center',\n",
    "                         fontsize=5\n",
    "                         )\n",
    "\n",
    "    # put the major ticks at the middle of each cell\n",
    "    plt.ylim(0, len(origins))\n",
    "    plt.xlim(0, len(destinations))\n",
    "    ax.set_xticks(np.arange(len(destinations)) + .5, minor=False)\n",
    "    ax.set_yticks(np.arange(len(origins)) + .5, minor=False)\n",
    "\n",
    "    # want a more natural, table-like display\n",
    "    ax.invert_yaxis()\n",
    "    ax.xaxis.tick_top()\n",
    "    ax.set_xticklabels(destinations, minor=False, fontsize=8)\n",
    "    ax.set_yticklabels(origins, minor=False, fontsize=8)\n",
    "    \n",
    "    if not title:\n",
    "        title = \"Africa latency heatmap\\n\"\n",
    "        if _max > 0: title += \"Maxed at %d ms\\n\" % _max\n",
    "        if banned != []:\n",
    "            title += \"Countries excluded:\"\n",
    "            for b in banned:\n",
    "                title += \" %s\" % b.encode('utf-8')\n",
    "            title += \"\\n\"\n",
    "        if sort == cluster_sort:\n",
    "            title += \"Sorted by latency cluster\\n\"\n",
    "        elif sort == region_sort:\n",
    "            title += \"Sorted by geographical region\\n\"\n",
    "        else:\n",
    "            title += \"Sorted by alphabetical order\\n\"\n",
    "    plt.title(title)\n",
    "    \n",
    "    plt.colorbar(heatmap)\n",
    "    plt.savefig(filename)\n",
    "\n",
    "    plt.show()"
   ]
  },
  {
   "cell_type": "code",
   "execution_count": null,
   "metadata": {
    "scrolled": false
   },
   "outputs": [],
   "source": [
    "banned_list = ['CF', 'SO', 'SN', 'SZ', 'TD', 'ZM', 'LR', 'NE', 'YT']\n",
    "\n",
    "for sort in [region_sort, cluster_sort, None]:\n",
    "    for _max in [0, 400, 500]:\n",
    "        for banned in [[], banned_list]:\n",
    "            filename=\"heatmap-sort_%s-max_%s-excluded_%s.png\" % (sort.func_name if sort!=None else \"no_sort\", _max, banned!=[])\n",
    "            build_heatmap(dictionary, filename=filename, plot_text=True, _max=_max, sort=sort, banned=banned)\n",
    "\n",
    "# build_heatmap(dictionary, filename=\"test.png\", plot_text=True, _max=500, sort=cluster_sort, banned=[])"
   ]
  },
  {
   "cell_type": "markdown",
   "metadata": {},
   "source": [
    "# Asymmetry"
   ]
  },
  {
   "cell_type": "code",
   "execution_count": null,
   "metadata": {
    "scrolled": false
   },
   "outputs": [],
   "source": [
    "from collections import defaultdict\n",
    "from django.db.models import Q\n",
    "\n",
    "asymmetry_dict = defaultdict(defaultdict)\n",
    "\n",
    "ccs = Country.objects.get_afrinic_countrycodes()\n",
    "for cc_o in ccs:\n",
    "    for cc_d in ccs:\n",
    "        try:\n",
    "            rtt = results.filter(Q(country_origin=cc_o)&Q(country_destination=cc_d)).aggregate(Avg('min_rtt'))['min_rtt__avg']\n",
    "            rtt_inv = results.filter(Q(country_origin=cc_d)&Q(country_destination=cc_o)).aggregate(Avg('min_rtt'))['min_rtt__avg']\n",
    "            asymmetry_dict[cc_o][cc_d] = abs(rtt - rtt_inv)\n",
    "        except KeyError as ke:\n",
    "            continue\n",
    "\n",
    "# from matplotlib.colors import LinearSegmentedColormap\n",
    "# blue = plt.cm.Blues(255)\n",
    "# b1, b2, b3, _ = blue\n",
    "# new_blue = (b1, b2, b3)\n",
    "# mid_blue = plt.cm.Blues(127)\n",
    "# white = (1, 1, 1)\n",
    "# colors = [white, mid_blue, new_blue]  # W -> B\n",
    "# cmap = LinearSegmentedColormap.from_list('my_cmap', colors, 100)\n",
    "title = \"Africa asymmetry matrix \\n (darker is worse)\"\n",
    "build_heatmap(asymmetry_dict, filename=\"heatmap-asymmetry.png\", zero_colour=False, cmap=plt.cm.Blues)"
   ]
  },
  {
   "cell_type": "code",
   "execution_count": 32,
   "metadata": {},
   "outputs": [
    {
     "data": {
      "image/png": "[encoded data removed]",
      "text/plain": [
       "<matplotlib.figure.Figure at 0x10a180150>"
      ]
     },
     "metadata": {},
     "output_type": "display_data"
    },
    {
     "data": {
      "image/png": "[encoded data removed]",
      "text/plain": [
       "<matplotlib.figure.Figure at 0x10a403590>"
      ]
     },
     "metadata": {},
     "output_type": "display_data"
    },
    {
     "data": {
      "image/png": "[encoded data removed]",
      "text/plain": [
       "<matplotlib.figure.Figure at 0x10a2da190>"
      ]
     },
     "metadata": {},
     "output_type": "display_data"
    }
   ],
   "source": [
    "from matplotlib import pyplot as plt\n",
    "\n",
    "for cc in ['MU', 'MG', 'ZA']:\n",
    "\n",
    "    ida = [r for r in results.filter(Q(country_origin=cc)&Q(country_destination__in=ccs)).values_list('min_rtt', flat=True)]\n",
    "    vuelta = [r for r in results.filter(Q(country_origin__in=ccs)&Q(country_destination=cc)).values_list('min_rtt', flat=True)]\n",
    "    plt.hist(\n",
    "        [ida, vuelta],\n",
    "        histtype='step',\n",
    "        normed=True,\n",
    "        bins=250,\n",
    "        linewidth=1.5,\n",
    "        label=[\"Rest of Africa\", \"Same region\"],\n",
    "        color=[plt.cm.Reds(255), plt.cm.Blues(225)]\n",
    "    )\n",
    "    plt.grid()\n",
    "    plt.show()"
   ]
  },
  {
   "cell_type": "code",
   "execution_count": null,
   "metadata": {
    "scrolled": false
   },
   "outputs": [],
   "source": [
    "import operator\n",
    "\n",
    "asymmetry_tuples = []\n",
    "\n",
    "for cc_o, _dict in asymmetry_dict.items():\n",
    "    for cc_d, rtt_diff in _dict.items():\n",
    "        asymmetry_tuples.append((cc_o, cc_d, rtt_diff))\n",
    "asymmetry_tuples_sorted = sorted(asymmetry_tuples, key=operator.itemgetter(2), reverse=True)\n",
    "too_asymmetric = [(a[0], a[1]) for a in asymmetry_tuples_sorted if a[2] > 100.0]\n",
    "\n",
    "print \"%.1f%% tuples are asymmetric in more than 100 ms\" % (100.0*len(too_asymmetric)/len(asymmetry_tuples_sorted))\n",
    "\n",
    "def is_it_asymmetric(cc_o, cc_d):\n",
    "    return (cc_o, cc_d) in too_asymmetric"
   ]
  },
  {
   "cell_type": "code",
   "execution_count": null,
   "metadata": {},
   "outputs": [],
   "source": [
    "from django.db.models import Q\n",
    "from matplotlib import pyplot as plt\n",
    "import math\n",
    "\n",
    "# Considering just the tuples\n",
    "n = int(math.sqrt(len(asymmetry_tuples)))\n",
    "plt.hist(\n",
    "    [a[2] for a in asymmetry_tuples],\n",
    "    bins=n,\n",
    "    normed=True,\n",
    "    color=plt.cm.Blues(255)\n",
    ")\n",
    "plt.title(\"Amount of country pairs that show asymmetrical samples.\")\n",
    "plt.text(100, .003, s=\"Threshold @ 100 ms \\n (RTTs > 180 ms account for \\n only 5% of the dataset)\")\n",
    "plt.xlim(0, 200)\n",
    "# plt.axis('off')\n",
    "plt.grid()\n",
    "plt.ylabel('Amount of country pairs')\n",
    "plt.xlabel('RTT difference between outbound and inbound results (ms)')\n",
    "plt.savefig(\"asymmetry.png\")\n",
    "plt.show()\n",
    "\n",
    "# n = int(math.sqrt(len(asymm_rs)))\n",
    "# plt.hist([a.min_rtt for a in asymm_rs], bins=n)\n",
    "# plt.show()"
   ]
  },
  {
   "cell_type": "code",
   "execution_count": null,
   "metadata": {},
   "outputs": [],
   "source": [
    "asymmetry_filter = Q()\n",
    "for cc_o, cc_d, rtt_diff in asymmetry_tuples:\n",
    "    if rtt_diff > 100.0:\n",
    "        asymmetry_filter |= (Q(country_origin=cc_o) & Q(country_destination=cc_d))\n",
    "asymm_rs = results.filter(asymmetry_filter)"
   ]
  },
  {
   "cell_type": "code",
   "execution_count": null,
   "metadata": {},
   "outputs": [],
   "source": [
    "print 100.0*len(asymm_rs) / len(results)"
   ]
  },
  {
   "cell_type": "code",
   "execution_count": null,
   "metadata": {
    "collapsed": true
   },
   "outputs": [],
   "source": [
    "def clusterize(G):\n",
    "    import matplotlib.pyplot as plt\n",
    "    import community\n",
    "    \n",
    "    partition = community.best_partition(G)\n",
    "\n",
    "    #drawing\n",
    "#     pos = nx.spring_layout(G)\n",
    "    pos=nx.drawing.nx_agraph.graphviz_layout(G)\n",
    "\n",
    "    size = float(len(set(partition.values())))\n",
    "    colors = range(int(size))\n",
    "#     plt.figure(figsize=(13,13))\n",
    "    plt.axis(\"off\")\n",
    "    for i, com in enumerate(set(partition.values())):\n",
    "        list_nodes = [nodes for nodes in partition.keys()\n",
    "                                    if partition[nodes] == com]\n",
    "        nx.draw_networkx_nodes(G, pos, list_nodes, with_labels=True, node_color=\"#81B3C1\")\n",
    "\n",
    "    nx.draw_networkx_edges(G, pos, width=.250)\n",
    "    nx.draw_networkx_labels(G, pos, font_size=12)\n",
    "#     nx.draw_networkx_edge_labels(G, pos, edge_labels={k: \"%.0f\"%v for k, v in nx.get_edge_attributes(G,'weight').iteritems()})\n",
    "    plt.figure()\n",
    "    print \"Graph G modularity: %.5f\" % community.modularity(partition, G)\n",
    "    print \"Graph G information:\\n%s\" % nx.info(G)\n",
    "    \n",
    "    G_i = community.induced_graph(partition=partition, graph=G)\n",
    "    plt.axis(\"off\")\n",
    "    pos = nx.spring_layout(G_i, iterations=5)\n",
    "    nx.draw_networkx_nodes(G_i, pos=pos, node_color=\"#81B3C1\")\n",
    "    nx.draw_networkx_edges(G_i, pos=pos)\n",
    "    nx.draw_networkx_labels(G_i, pos=pos)\n",
    "    plt.figure()\n",
    "    \n",
    "    print \"Partition: %s\" % partition"
   ]
  },
  {
   "cell_type": "code",
   "execution_count": null,
   "metadata": {},
   "outputs": [],
   "source": [
    "def build_graph(dictionary, inverse=False):\n",
    "    G = nx.Graph()\n",
    "    for d in dictionary:\n",
    "        if d not in G.nodes(): G.add_node(d)\n",
    "        for e in dictionary[d]:\n",
    "            if e not in G.nodes(): G.add_node(e)\n",
    "            weight = dictionary[d][e]\n",
    "            if inverse: weight=weight\n",
    "            else: weight=1.0/weight\n",
    "            G.add_edge(d, e, weight=weight)\n",
    "    return G"
   ]
  },
  {
   "cell_type": "code",
   "execution_count": null,
   "metadata": {
    "collapsed": true
   },
   "outputs": [],
   "source": [
    "def chart_graph(G):\n",
    "    pos=nx.drawing.nx_agraph.graphviz_layout(G)\n",
    "    nx.draw_networkx(G, pos=pos, with_labels=True, alpha=0.8, width=.25, node_color='#A0CBE2', format='png', prog='neato')"
   ]
  },
  {
   "cell_type": "markdown",
   "metadata": {
    "collapsed": true
   },
   "source": [
    "## Country Graphs"
   ]
  },
  {
   "cell_type": "markdown",
   "metadata": {},
   "source": [
    "### ICMP Country Graph"
   ]
  },
  {
   "cell_type": "markdown",
   "metadata": {},
   "source": [
    "### Generate the Graph"
   ]
  },
  {
   "cell_type": "code",
   "execution_count": null,
   "metadata": {
    "scrolled": false
   },
   "outputs": [],
   "source": [
    "%matplotlib inline\n",
    "\n",
    "import networkx as nx\n",
    "import matplotlib.pyplot as plt\n",
    "\n",
    "from simon_app.management.commands.heatmap import *\n",
    "from datetime import datetime, timedelta\n",
    "from simon_app.reportes import GMTUY\n",
    "from simon_app.models.models import Country\n",
    "\n",
    "def generate_graph(results=results, ccs=ccs, inverse=False):\n",
    "\n",
    "    now = datetime.now()\n",
    "    d = timedelta(days=365)\n",
    "    then = now - d\n",
    "\n",
    "    results_ = results.filter(date_test__gte=then)\n",
    "    dictionary = build_dict(results_, ccs=ccs)\n",
    "    G = build_graph(dictionary, inverse=inverse)\n",
    "\n",
    "    # remove inner latencies\n",
    "    for e in G.edges():\n",
    "        if e[0] == e[1]:\n",
    "            G.remove_edge(e[0], e[1])\n",
    "    return G\n",
    "\n",
    "    # draw\n",
    "    # chart_graph(G)\n",
    "    # clusterize(G)"
   ]
  },
  {
   "cell_type": "code",
   "execution_count": null,
   "metadata": {
    "scrolled": false
   },
   "outputs": [],
   "source": [
    "%matplotlib inline\n",
    "\n",
    "def build_objects(part={}, results=Results.objects.probeapi()):\n",
    "    from collections import Counter, defaultdict\n",
    "    from django.db.models import Q\n",
    "    import matplotlib.pyplot as plt\n",
    "    import math, numpy as np\n",
    "\n",
    "    values = defaultdict(list)\n",
    "    for k, v in part.iteritems():\n",
    "        values[v].append(k)\n",
    "    \n",
    "    objects = {k:defaultdict(list) for k, v in values.iteritems()}\n",
    "\n",
    "    for cluster, region in values.iteritems():\n",
    "    #     same region\n",
    "        region_filter = Q()\n",
    "        for cc in region:\n",
    "            for cc_destination in region:\n",
    "                if cc == cc_destination: continue # no inner latencies\n",
    "                region_filter |= (Q(country_origin=cc) & Q(country_destination=cc_destination))\n",
    "        rs = results.filter(region_filter)\n",
    "        n = len(rs)\n",
    "        data = [r.min_rtt for r in rs if r>0]\n",
    "\n",
    "        title = \"Region %s (%s)\" % (cluster, region)\n",
    "        objects[cluster]['same'] = data\n",
    "        objects[cluster]['title'] = title\n",
    "        objects[cluster]['cluster'] = cluster\n",
    "        objects[cluster]['region'] = region\n",
    "        objects[cluster]['n'] = n\n",
    "\n",
    "    #     other regions\n",
    "    plots = []\n",
    "    for cluster, region in values.iteritems():\n",
    "        for cluster_destination, region_destination in values.iteritems():\n",
    "            if cluster == cluster_destination: continue\n",
    "            region_filter = Q()\n",
    "            for cc in region:\n",
    "                for cc_destination in region_destination:\n",
    "                    region_filter |= (Q(country_origin=cc) & Q(country_destination=cc_destination) | Q(country_origin=cc_destination) & Q(country_destination=cc))\n",
    "            rs = Results.objects.probeapi().filter(region_filter)\n",
    "            n = len(rs)\n",
    "            data = [r.min_rtt for r in rs if r>0]\n",
    "\n",
    "            title = \"Region %s - %s (%.0f samples)\" % (cluster, cluster_destination, n)\n",
    "            objects[cluster]['others'] += data\n",
    "            objects[cluster][cluster_destination] = data\n",
    "        \n",
    "        same = np.median(objects[cluster]['same'])\n",
    "        others = np.median(objects[cluster]['others'])\n",
    "        diff = others - same\n",
    "        print \"Cluster: %s \\t same: %s \\t others: %s \\t diff: %s\" % (cluster, same, others, diff)\n",
    "    return objects"
   ]
  },
  {
   "cell_type": "code",
   "execution_count": null,
   "metadata": {
    "collapsed": true
   },
   "outputs": [],
   "source": [
    "from collections import defaultdict\n",
    "\n",
    "def google_charts(part={}):\n",
    "    res = []\n",
    "    values = defaultdict(list)\n",
    "    for k, v in part.iteritems():\n",
    "        values[v].append(k)\n",
    "        res.append([k, v])\n",
    "    return res"
   ]
  },
  {
   "cell_type": "code",
   "execution_count": null,
   "metadata": {
    "scrolled": false
   },
   "outputs": [],
   "source": [
    "import community, math\n",
    "from matplotlib import pyplot as plt\n",
    "\n",
    "def analyze(G, _max=400):\n",
    "    \"\"\"\n",
    "        Permform a cluster-level analysis of the different\n",
    "        dendograms the clustering algorithm returns.\n",
    "    \"\"\"\n",
    "    dendogram = community.generate_dendogram(G)\n",
    "    print \"Graph 'G' information:\"\n",
    "    print nx.info(G)\n",
    "    print \"Dendogram information:\"\n",
    "    print dendogram\n",
    "    partition = dendogram[0]\n",
    "    objects = build_objects(partition, results=results) # TODO ojo acá\n",
    "    for o in objects.iteritems():\n",
    "        try:\n",
    "            n = len(o[1]['others'])\n",
    "            plt.figure()\n",
    "            plt.title(\"Region %s (%.0f samples) \\n %s\" % (o[1]['cluster'], o[1]['n'], o[1]['region']))\n",
    "            bins = int(math.sqrt(n))\n",
    "            plt.hist(o[1]['same'], normed=True, range=(0, _max), bins=bins, histtype=\"step\", label=\"This region\")\n",
    "            plt.hist(o[1]['others'], normed=True, range=(0, _max), bins=bins, histtype=\"step\", label=\"Rest of region\")\n",
    "            plt.legend()\n",
    "        except ValueError as ve:\n",
    "            print ve\n",
    "            continue\n",
    "    plt.show()"
   ]
  },
  {
   "cell_type": "markdown",
   "metadata": {},
   "source": [
    "## Plot regions against the rest of AFRINIC countries"
   ]
  },
  {
   "cell_type": "code",
   "execution_count": null,
   "metadata": {},
   "outputs": [],
   "source": [
    "G = generate_graph(results=results, ccs=ccs)"
   ]
  },
  {
   "cell_type": "code",
   "execution_count": null,
   "metadata": {},
   "outputs": [],
   "source": [
    "partition = {u'BF': 0, u'DJ': 1, u'BI': 2, u'BJ': 3, u'BW': 2, u'DZ': 1, u'ET': 1, u'YT': 1, u'RW': 2, u'TZ': 2, u'CM': 0, u'NA': 2, u'CD': 0, u'NE': 2, u'NG': 0, u'TN': 1, u'RE': 1, u'LR': 0, u'LS': 2, u'TG': 3, u'TD': 1, u'LY': 1, u'ZM': 2, u'CI': 1, u'GQ': 1, u'EG': 1, u'SL': 0, u'CG': 0, u'CF': 1, u'AO': 1, u'ZA': 2, u'GA': 1, u'GN': 0, u'GM': 0, u'ZW': 2, u'CV': 1, u'GH': 0, u'SZ': 2, u'MG': 1, u'MA': 1, u'KE': 2, u'ML': 1, u'KM': 0, u'ST': 0, u'MU': 2, u'MW': 2, u'SO': 1, u'SN': 1, u'MR': 0, u'SC': 1, u'UG': 2, u'MZ': 2, u'SD': 1}\n",
    "objects = build_objects(partition, results=results)"
   ]
  },
  {
   "cell_type": "code",
   "execution_count": null,
   "metadata": {},
   "outputs": [],
   "source": [
    "import numpy as np\n",
    "print np.median(objects[0]['same']), np.median(objects[0][1]), np.median(objects[0][2]), np.median(objects[0][3])\n",
    "print np.median(objects[1][0]), np.median(objects[1]['same']), np.median(objects[1][2]), np.median(objects[1][3])\n",
    "print np.median(objects[2][0]), np.median(objects[2][1]), np.median(objects[2]['same']), np.median(objects[2][3])\n",
    "print np.median(objects[3][0]), np.median(objects[3][1]), np.median(objects[3][2]), np.median(objects[3]['same'])"
   ]
  },
  {
   "cell_type": "code",
   "execution_count": null,
   "metadata": {
    "scrolled": false
   },
   "outputs": [],
   "source": [
    "MAX = 500\n",
    "for i, obj in objects.iteritems():\n",
    "    \n",
    "    n = len(obj['others'])\n",
    "    bins = int(math.sqrt(obj['n']))\n",
    "    \n",
    "    countries = \"\"\n",
    "    for i, cc in enumerate(obj['region']):\n",
    "        countries += \"%s   \" % cc.encode('utf-8')\n",
    "        if (i+1)%10 == 0:\n",
    "            countries += \"\\n\"\n",
    "    plt.title(\"Histogram showing RTTs corresponding to \\n cluster # %s (%s samples) \\n %s\" % (obj['cluster'], \"%.0f k\" % (obj['n'] / 1000.0) if obj['n'] > 1000 else obj['n'], countries))\n",
    "    \n",
    "    histtype=\"step\"\n",
    "    _range=(0, MAX)\n",
    "    linewidth=3\n",
    "    plt.hist(\n",
    "        [obj['others'], obj['same']],\n",
    "#         cumulative=True,\n",
    "        normed=True,\n",
    "        range=_range,\n",
    "        bins=bins,\n",
    "        histtype=histtype,\n",
    "        linewidth=2,\n",
    "        label=[\"Rest of Africa\", \"Same region\"],\n",
    "        color=[plt.cm.Reds(255), plt.cm.Blues(225)]\n",
    "    )\n",
    "    \n",
    "    plt.grid()\n",
    "    plt.legend()\n",
    "    \n",
    "    filename = \"histogram-cluster_%d.png\" % (obj['cluster'])\n",
    "    plt.savefig(filename)\n",
    "    \n",
    "    plt.show()"
   ]
  },
  {
   "cell_type": "code",
   "execution_count": null,
   "metadata": {},
   "outputs": [],
   "source": [
    "from django.db.models import Q\n",
    "\n",
    "rs = Results.objects.exclude(asymmetry_filter)\n",
    "    \n",
    "for cluster_number in [0, 1, 2, 3]:\n",
    "\n",
    "    cluster_ccs = []\n",
    "    for cc, cluster in partition.items():\n",
    "        if cluster == cluster_number:\n",
    "            cluster_ccs.append(cc)\n",
    "            \n",
    "    countries = \"\"\n",
    "    for i, cc in enumerate(cluster_ccs):\n",
    "        countries += \"%s \" % cc.encode('utf-8')\n",
    "        if (i+1)%10 == 0:\n",
    "            countries += \"\\n\"\n",
    "\n",
    "    cluster_rs = rs.filter(\n",
    "            Q(country_origin__in=cluster_ccs) & Q(country_destination__in=cluster_ccs)\n",
    "        ).values_list('min_rtt', flat=True)\n",
    "    to_region_rs = rs.filter(\n",
    "            Q(country_origin__in=cluster_ccs) & ~Q(country_destination__in=cluster_ccs) | \n",
    "            ~Q(country_origin__in=cluster_ccs) & Q(country_destination__in=cluster_ccs)\n",
    "        ).values_list('min_rtt', flat=True)\n",
    "    \n",
    "    N = len(cluster_rs) + len(to_region_rs)\n",
    "    \n",
    "    plt.hist(\n",
    "            [cluster_rs, to_region_rs],\n",
    "    #         cumulative=True,\n",
    "            normed=True,\n",
    "            range=_range,\n",
    "            bins=int(math.sqrt(len(cluster_rs))),\n",
    "            histtype=histtype,\n",
    "            linewidth=2,\n",
    "            label=[\"Within cluster #%d\" % cluster_number, \"To Africa\"],\n",
    "            color=[plt.cm.Blues(225), plt.cm.Reds(225)]\n",
    "        )\n",
    "    \n",
    "    plt.title(\"Histogram showing RTTs corresponding to \\n cluster # %s (%s samples) \\n %s\" % (cluster_number, \"%.0f k\" % (N / 1000.0) if N > 1000 else N, countries))\n",
    "    plt.xlabel(\"RTT latency (ms)\")\n",
    "    plt.ylabel(\"Amount of samples (normalized)\")\n",
    "    plt.legend()\n",
    "    plt.grid()\n",
    "    plt.show()\n",
    "    \n",
    "    print np.median(cluster_rs), np.median(to_region_rs)"
   ]
  },
  {
   "cell_type": "code",
   "execution_count": null,
   "metadata": {
    "scrolled": false
   },
   "outputs": [],
   "source": [
    "# analyze(G)"
   ]
  },
  {
   "cell_type": "code",
   "execution_count": null,
   "metadata": {
    "scrolled": false
   },
   "outputs": [],
   "source": [
    "from collections import defaultdict\n",
    "\n",
    "inner_rtts = defaultdict(int)\n",
    "inner_rtts[0] = 253.0\n",
    "inner_rtts[1] = 177.0\n",
    "inner_rtts[2] = 115.0\n",
    "inner_rtts[3] = 70.0\n",
    "\n",
    "to_region_rtts = defaultdict(int)\n",
    "to_region_rtts[0] = 263.0\n",
    "to_region_rtts[1] = 257.0\n",
    "to_region_rtts[2] = 289.0\n",
    "to_region_rtts[3] = 280.0\n",
    "\n",
    "diffs = defaultdict(int)\n",
    "diffs[0] = to_region_rtts[0] - inner_rtts[0]\n",
    "diffs[1] = to_region_rtts[1] - inner_rtts[1]\n",
    "diffs[2] = to_region_rtts[2] - inner_rtts[2]\n",
    "diffs[3] = to_region_rtts[3] - inner_rtts[3]\n",
    "\n",
    "# La lista para Google Charts\n",
    "[[cc.encode('utf-8'), diffs[cluster]] for cc, cluster in partition.items()]\n",
    "\n",
    "fig = plt.figure(figsize=(6, 2))\n",
    "\n",
    "ax = plt.subplot(131)\n",
    "ax.bar(\n",
    "    [0, 1, 2, 3],\n",
    "    inner_rtts.values(),\n",
    "    color=[plt.cm.Blues(255), plt.cm.Blues(192), plt.cm.Blues(128), plt.cm.Blues(64)]\n",
    ")\n",
    "# ax.axis('off')\n",
    "plt.xlabel(\"Cluster #\")\n",
    "plt.ylabel(\"In-cluster RTT (ms)\")\n",
    "ax.set_xticklabels(('', '0', '', '1', '', '2', '', '3'))\n",
    "\n",
    "ax = plt.subplot(132)\n",
    "ax.bar(\n",
    "    [0, 1, 2, 3],\n",
    "    to_region_rtts.values(),\n",
    "    color=[plt.cm.Blues(127), plt.cm.Blues(64), plt.cm.Blues(255), plt.cm.Blues(192)]\n",
    ")\n",
    "plt.xlabel(\"Cluster #\")\n",
    "plt.ylabel(\"RTT to the rest \\n of Africa (ms)\")\n",
    "ax.set_xticklabels(('', '0', '', '1', '', '2', '', '3'))\n",
    "\n",
    "ax = plt.subplot(133)\n",
    "ax.bar(\n",
    "    [0, 1, 2, 3],\n",
    "    diffs.values(),\n",
    "    color=[plt.cm.Blues(255), plt.cm.Blues(192), plt.cm.Blues(128), plt.cm.Blues(64)]\n",
    ")\n",
    "plt.xlabel(\"Cluster #\")\n",
    "plt.ylabel(\"RTT difference (ms)\")\n",
    "ax.set_xticklabels(('', '0', '', '1', '', '2', '', '3'))\n",
    "\n",
    "plt.tight_layout()\n",
    "plt.savefig(\"bar-plot.png\")\n",
    "plt.show()"
   ]
  },
  {
   "cell_type": "code",
   "execution_count": null,
   "metadata": {},
   "outputs": [],
   "source": [
    "r, g, b, _ = plt.cm.Blues(int(4*255/5.0))\n",
    "print r*255, g*255, b*255"
   ]
  },
  {
   "cell_type": "markdown",
   "metadata": {},
   "source": [
    "# Landing cables analysis"
   ]
  },
  {
   "cell_type": "code",
   "execution_count": null,
   "metadata": {
    "scrolled": false
   },
   "outputs": [],
   "source": [
    "import csv\n",
    "import json\n",
    "from collections import defaultdict\n",
    "\n",
    "rcs = {}\n",
    "with open(\"restcountries.json\", \"r\") as restcountries:\n",
    "    rcs = json.loads(restcountries.read())\n",
    "\n",
    "# european_ccs = Country.objects.get_ripencc_countrycodes()\n",
    "ID=0\n",
    "DESCRIPTION=2\n",
    "cables_to_countries = defaultdict(list)\n",
    "\n",
    "ccs = Country.objects.get_afrinic_countrycodes()\n",
    "europe_ccs = Country.objects.get_ripencc_countrycodes()\n",
    "\n",
    "with open(\"fusion-cables-201608171039.csv\", \"r\") as f:\n",
    "    csv_reader = csv.reader(f)\n",
    "    csv_reader.next()\n",
    "    for l in csv_reader:\n",
    "        try:\n",
    "            description = json.loads(l[DESCRIPTION])\n",
    "            countries = [d[\"name\"].split(\", \")[1] for d in description]\n",
    "            ccs_ = []\n",
    "            for country in countries:\n",
    "                for rc in rcs:\n",
    "                    if rc[\"name\"] == country:\n",
    "                        cc = rc[\"alpha2Code\"]\n",
    "                        if cc not in ccs_ and cc in ccs:\n",
    "                            ccs_.append(cc.encode('utf-8'))\n",
    "        except:\n",
    "            continue\n",
    "        if len(ccs_) > 0:\n",
    "            cables_to_countries[l[ID]] = ccs_"
   ]
  },
  {
   "cell_type": "code",
   "execution_count": null,
   "metadata": {},
   "outputs": [],
   "source": [
    "countries_to_cables = defaultdict(list)\n",
    "for cable in cables_to_countries:\n",
    "    ccs__ = cables_to_countries[cable]\n",
    "    for cc in ccs__:\n",
    "        countries_to_cables[cc].append(cable)"
   ]
  },
  {
   "cell_type": "code",
   "execution_count": 33,
   "metadata": {
    "scrolled": false
   },
   "outputs": [
    {
     "ename": "NameError",
     "evalue": "name 'cables_to_countries' is not defined",
     "output_type": "error",
     "traceback": [
      "\u001b[0;31m---------------------------------------------------------------------------\u001b[0m",
      "\u001b[0;31mNameError\u001b[0m                                 Traceback (most recent call last)",
      "\u001b[0;32m<ipython-input-33-8b752c2feda1>\u001b[0m in \u001b[0;36m<module>\u001b[0;34m()\u001b[0m\n\u001b[1;32m      8\u001b[0m \u001b[0;34m\u001b[0m\u001b[0m\n\u001b[1;32m      9\u001b[0m \u001b[0mH\u001b[0m \u001b[0;34m=\u001b[0m \u001b[0mnx\u001b[0m\u001b[0;34m.\u001b[0m\u001b[0mGraph\u001b[0m\u001b[0;34m(\u001b[0m\u001b[0;34m)\u001b[0m\u001b[0;34m\u001b[0m\u001b[0m\n\u001b[0;32m---> 10\u001b[0;31m \u001b[0;32mfor\u001b[0m \u001b[0mi\u001b[0m\u001b[0;34m,\u001b[0m \u001b[0mcable\u001b[0m \u001b[0;32min\u001b[0m \u001b[0menumerate\u001b[0m\u001b[0;34m(\u001b[0m\u001b[0mcables_to_countries\u001b[0m\u001b[0;34m)\u001b[0m\u001b[0;34m:\u001b[0m\u001b[0;34m\u001b[0m\u001b[0m\n\u001b[0m\u001b[1;32m     11\u001b[0m     \u001b[0mh\u001b[0m \u001b[0;34m=\u001b[0m \u001b[0mnx\u001b[0m\u001b[0;34m.\u001b[0m\u001b[0mGraph\u001b[0m\u001b[0;34m(\u001b[0m\u001b[0;34m)\u001b[0m\u001b[0;34m\u001b[0m\u001b[0m\n\u001b[1;32m     12\u001b[0m     \u001b[0;32mfor\u001b[0m \u001b[0mcountry\u001b[0m \u001b[0;32min\u001b[0m \u001b[0mcables_to_countries\u001b[0m\u001b[0;34m[\u001b[0m\u001b[0mcable\u001b[0m\u001b[0;34m]\u001b[0m\u001b[0;34m:\u001b[0m\u001b[0;34m\u001b[0m\u001b[0m\n",
      "\u001b[0;31mNameError\u001b[0m: name 'cables_to_countries' is not defined"
     ]
    }
   ],
   "source": [
    "%matplotlib inline\n",
    "\n",
    "import networkx as nx\n",
    "from matplotlib import pyplot as plt\n",
    "import operator\n",
    "import math\n",
    "from collections import defaultdict\n",
    "\n",
    "H = nx.Graph()\n",
    "for i, cable in enumerate(cables_to_countries):\n",
    "    h = nx.Graph()\n",
    "    for country in cables_to_countries[cable]:\n",
    "        if country not in h.nodes(): h.add_node(country)\n",
    "        for e in h.nodes():\n",
    "            if e != country: h.add_edge(country, e, weight=1)  # all edges but to itself\n",
    "    H = nx.compose(h, H)\n",
    "pos=nx.drawing.nx_agraph.graphviz_layout(H)\n",
    "\n",
    "labels = defaultdict(str)\n",
    "for n in H.nodes():\n",
    "    labels[n] = n\n",
    "# labels['ZA'] = ''\n",
    "\n",
    "nx.draw_networkx(\n",
    "    H,\n",
    "    pos=pos,\n",
    "    with_labels=True,\n",
    "    labels=labels,\n",
    "    width=.5,\n",
    "    linewidths=.5,\n",
    "    font_size=8,\n",
    "    node_color=[c[1] for c in nx.degree_centrality(H).items()],\n",
    "    node_size=150,\n",
    "    cmap=plt.cm.Blues,\n",
    "    format='png',\n",
    "    prog='neato'\n",
    "                )\n",
    "# plt.text(pos['ZA'][0]+8,pos['ZA'][1]-15,s='ZA')\n",
    "plt.title(\"Submarine cables graph in the African region\")\n",
    "plt.axis('off')\n",
    "plt.savefig(\"graph.png\", dpi=700)\n",
    "plt.show()\n",
    "\n",
    "centrality = nx.degree_centrality(H)\n",
    "centrality_sorted = sorted(centrality.items(), key=operator.itemgetter(1))\n",
    "\n",
    "centralities_no_ZA = 0\n",
    "for cs in centrality_sorted[:-1]:\n",
    "    centralities_no_ZA += cs[1]\n",
    "centrality_za = centrality_sorted[-1][1]\n",
    "centralities_no_ZA_avg = centralities_no_ZA / len(centrality_sorted[:-1])\n",
    "print \"ZA: %.2f \\t Avg.g (without ZA): %.2f \\t Ratio: %.2f\" % (centrality_za, centralities_no_ZA_avg, centrality_za/centralities_no_ZA_avg)\n",
    "\n",
    "degrees = defaultdict(int)\n",
    "for d in H.nodes():\n",
    "    degrees[d] = H.degree(d)\n",
    "plt.hist(\n",
    "    degrees.values(),\n",
    "    color=plt.cm.Blues(255),\n",
    "    bins=30\n",
    ")\n",
    "# plt.text(17.0, 1.2, s='')\n",
    "plt.annotate(\n",
    "    ' South Africa is by far \\n the biggest regional \\n hub, with 27 direct \\n physical connections to \\n other countries',\n",
    "    xy=(26.5, 1.0),\n",
    "    xytext=(26.5, 1.5),\n",
    "    arrowprops=dict(\n",
    "        width=1,\n",
    "        headwidth=3,\n",
    "        facecolor='black',\n",
    "        shrink=.10\n",
    "    ),\n",
    "    horizontalalignment='right'\n",
    ")\n",
    "plt.xlim(1,30)\n",
    "plt.title(\"Degree histogram, based on graph H\")\n",
    "plt.xlabel(\"Amount of direct connections to to other countries \\n via submarine cables\")\n",
    "plt.ylabel(\"Amount of countries\")\n",
    "plt.savefig(\"histogram-degrees.png\", dpi=700)\n",
    "plt.grid()\n",
    "plt.show()"
   ]
  },
  {
   "cell_type": "code",
   "execution_count": null,
   "metadata": {
    "scrolled": false
   },
   "outputs": [],
   "source": [
    "import networkx as nx\n",
    "from collections import defaultdict\n",
    "\n",
    "dictionary_landing = nx.shortest_path(H)\n",
    "dictionary_landing_ = defaultdict(dict)\n",
    "for o in dictionary_landing:\n",
    "    for d in dictionary_landing[o]:\n",
    "        _list = dictionary_landing[o][d]\n",
    "        n = len(_list)\n",
    "        if n == 1:\n",
    "            n = 0\n",
    "        elif n == 2:\n",
    "            n = 0\n",
    "        else:\n",
    "            n = n - 2\n",
    "        dictionary_landing_[o][d] = n\n",
    "\n",
    "title = \"Africa submarine cable heatmap \\n (cable hops between origin and destination) \\n\"\n",
    "build_heatmap(dictionary_landing_, filename=\"landing.png\", title=title, plot_text=True, sort=cluster_sort, zero_colour=False, _max=3)"
   ]
  },
  {
   "cell_type": "markdown",
   "metadata": {},
   "source": [
    "## African countries sharing a cable with European countries"
   ]
  },
  {
   "cell_type": "code",
   "execution_count": null,
   "metadata": {
    "scrolled": true
   },
   "outputs": [],
   "source": [
    "european_ccs = set(Country.objects.get_ripencc_countrycodes())\n",
    "african_ccs = set(Country.objects.get_afrinic_countrycodes())\n",
    "african_international = set()\n",
    "for cable, ccs_list in cables_to_countries.items():\n",
    "    print cable, ccs_list\n",
    "    intersects_europe = set(ccs_list).intersection(european_ccs)\n",
    "    intersects_africa = set(ccs_list).intersection(african_ccs)\n",
    "    if intersects_europe and intersects_africa:\n",
    "        african_international.update(intersects_africa)\n",
    "print african_international"
   ]
  },
  {
   "cell_type": "markdown",
   "metadata": {},
   "source": [
    "# Terrestrial cables (operators)"
   ]
  },
  {
   "cell_type": "code",
   "execution_count": null,
   "metadata": {
    "scrolled": true
   },
   "outputs": [],
   "source": [
    "import json\n",
    "operators = set()\n",
    "operators_dict = defaultdict(set)\n",
    "with open(\"cartodb-query.geojson.json\") as f:\n",
    "    content = json.loads(f.read())\n",
    "    features = content[\"features\"]\n",
    "    for feature in features:\n",
    "        props = feature[\"properties\"]\n",
    "        cc = props[\"iso2\"].upper()\n",
    "        op = props[\"operator\"].encode('iso-8859-1')\n",
    "        operators.add(op)\n",
    "        operators_dict[cc].add(op)\n",
    "for op in operators:\n",
    "    print op.decode('iso-8859-1')\n",
    "print operators_dict"
   ]
  },
  {
   "cell_type": "markdown",
   "metadata": {},
   "source": [
    "# Data export"
   ]
  },
  {
   "cell_type": "code",
   "execution_count": null,
   "metadata": {
    "collapsed": true
   },
   "outputs": [],
   "source": [
    "import csv\n",
    "with open(\"africabandwidthmaps.csv\", \"w\") as csvfile:\n",
    "    simonwriter = csv.writer(csvfile)\n",
    "    simonwriter.writerow(\"CC Origin, CC Destination, Min. RTT, Avg. RTT, Max. RTT, Date\")\n",
    "    for r in results:\n",
    "        row = \"%s, %s, %.1f, %.1f, %.1f, %s\" % (r.country_origin, r.country_destination, r.min_rtt, r.ave_rtt, r. max_rtt, r.date_test.date())\n",
    "        print row\n",
    "        simonwriter.writerow([row])"
   ]
  },
  {
   "cell_type": "markdown",
   "metadata": {},
   "source": [
    "# Submarine hops"
   ]
  },
  {
   "cell_type": "code",
   "execution_count": null,
   "metadata": {},
   "outputs": [],
   "source": [
    "from django.db.models import Q\n",
    "from collections import defaultdict\n",
    "from matplotlib import pyplot as plt\n",
    "import math\n",
    "\n",
    "hops = {\n",
    "    '0': [],\n",
    "    '1': [],\n",
    "    '2': []\n",
    "}\n",
    "\n",
    "for cc_o in dictionary_landing_: # loop only half of the matrix, excluding same-country\n",
    "    for cc_d in dictionary_landing_[cc_o]:\n",
    "        num_hops = dictionary_landing_[cc_o][cc_d]\n",
    "        if (cc_o, cc_d) not in hops[str(num_hops)] and cc_o != cc_d:\n",
    "            hops[str(num_hops)].append((cc_o, cc_d))\n",
    "            \n",
    "zero = len(hops['0'])\n",
    "one = len(hops['1'])\n",
    "two = len(hops['2'])\n",
    "total = zero+one+two\n",
    "\n",
    "print \"%.1f%% %.1f%% %.1f%%\" % (100.0*zero/total, 100.0*one/total, 100.0*two/total)"
   ]
  },
  {
   "cell_type": "code",
   "execution_count": null,
   "metadata": {},
   "outputs": [],
   "source": [
    "from django.db.models import Q\n",
    "\n",
    "international_filter = (Q(country_origin__in=african_international) & Q(country_destination__in=african_international))"
   ]
  },
  {
   "cell_type": "code",
   "execution_count": null,
   "metadata": {},
   "outputs": [],
   "source": [
    "# import operator\n",
    "\n",
    "# for k, cc_list in sorted(hops.items(), key=operator.itemgetter(0)):\n",
    "#     hop_filter = Q()\n",
    "#     for cc_tuple in cc_list:\n",
    "#         hop_filter |= Q(country_origin=cc_tuple[0]) & Q(country_destination=cc_tuple[1])\n",
    "#     mins = [float(r.min_rtt) for r in results.exclude(asymmetry_filter).exclude(international_filter).filter(hop_filter)]\n",
    "# #     PDF\n",
    "#     plt.hist(mins, label=\"%d hops\" % int(k), histtype=\"step\", bins=80.0, normed=True, linewidth=3.0)\n",
    "\n",
    "# # Interntional\n",
    "# mins_international = [float(r.min_rtt) for r in results.exclude(asymmetry_filter).filter(international_filter)]\n",
    "# plt.hist(mins_international, label=\"Connected to Europe\", histtype=\"step\", bins=80.0, normed=True, linewidth=3.0)\n",
    "\n",
    "# plt.title(\"Inter-country latency histogram \\n based on submarine \\\"hop counts\\\"\")\n",
    "# plt.xlabel('RTT Latency (ms)')\n",
    "# plt.ylabel('Proportion of samples')\n",
    "# plt.legend()\n",
    "# plt.savefig(\"histogram_all_spectrum.png\")\n",
    "# plt.show()\n",
    "\n",
    "# for k, cc_list in sorted(hops.items(), key=operator.itemgetter(0)):\n",
    "#     hop_filter = Q()\n",
    "#     for cc_tuple in cc_list:\n",
    "#         hop_filter |= Q(country_origin=cc_tuple[0]) & Q(country_destination=cc_tuple[1])\n",
    "#     mins = [float(r.min_rtt) for r in results.exclude(asymmetry_filter).exclude(international_filter).filter(hop_filter)]\n",
    "# #     CDF\n",
    "#     plt.hist(mins, label=\"%d hops\" % int(k), histtype=\"step\", bins=80.0, normed=True, linewidth=3.0, cumulative=True)\n",
    "    \n",
    "# plt.title(\"Inter-country latency cumulative histogram \\n based on submarine \\\"hop counts\\\"\")\n",
    "# plt.xlabel('RTT Latency (ms)')\n",
    "# plt.ylabel('Cumulative proportion of samples')\n",
    "# plt.legend()\n",
    "# plt.savefig(\"cumulative_all_spectrum.png\")\n",
    "# plt.show()"
   ]
  },
  {
   "cell_type": "code",
   "execution_count": null,
   "metadata": {},
   "outputs": [],
   "source": [
    "from django.db.models import Q\n",
    "\n",
    "rs = results.exclude(asymmetry_filter)\n",
    "\n",
    "zero_hop_filter = Q()\n",
    "for cc_o, cc_d in hops['0']:\n",
    "    zero_hop_filter |= (Q(country_origin=cc_o) & Q(country_destination=cc_d))\n",
    "# zero_hop_rs = rs.exclude(international_filter).filter(zero_hop_filter).values_list('min_rtt', flat=True)\n",
    "zero_hop_rs = rs.filter(zero_hop_filter).values_list('min_rtt', flat=True)"
   ]
  },
  {
   "cell_type": "code",
   "execution_count": null,
   "metadata": {},
   "outputs": [],
   "source": [
    "one_hop_filter = Q()\n",
    "for cc_o, cc_d in hops['1']:\n",
    "    one_hop_filter |= (Q(country_origin=cc_o) & Q(country_destination=cc_d))\n",
    "one_hop_rs = rs.exclude(international_filter).filter(one_hop_filter).values_list('min_rtt', flat=True)"
   ]
  },
  {
   "cell_type": "code",
   "execution_count": null,
   "metadata": {},
   "outputs": [],
   "source": [
    "two_hop_filter = Q()\n",
    "for cc_o, cc_d in hops['2']:\n",
    "    two_hop_filter |= (Q(country_origin=cc_o) & Q(country_destination=cc_d))\n",
    "two_hop_rs = rs.exclude(international_filter).filter(two_hop_filter).values_list('min_rtt', flat=True)"
   ]
  },
  {
   "cell_type": "code",
   "execution_count": null,
   "metadata": {},
   "outputs": [],
   "source": [
    "plt.hist(\n",
    "    [\n",
    "        zero_hop_rs,\n",
    "        one_hop_rs,\n",
    "        two_hop_rs,\n",
    "#         rs.filter(international_filter).values_list('min_rtt', flat=True)\n",
    "    ],\n",
    "    label=[\"Zero Hop\", \"One Hop\", \"Two Hops\"],\n",
    "    histtype=\"step\",\n",
    "    bins=300,\n",
    "    normed=True,\n",
    "    cumulative=True,\n",
    "    linewidth=2.0\n",
    ")\n",
    "plt.xlim(0, 700)\n",
    "plt.ylim(0,1.0)\n",
    "plt.legend()\n",
    "plt.show()"
   ]
  },
  {
   "cell_type": "code",
   "execution_count": null,
   "metadata": {},
   "outputs": [],
   "source": [
    "plt.hist(\n",
    "    [\n",
    "        zero_hop_rs,\n",
    "        one_hop_rs,\n",
    "        two_hop_rs,\n",
    "        rs.filter(international_filter).values_list('min_rtt', flat=True)\n",
    "    ],\n",
    "    label=[\"Zero Hop\", \"One Hop\", \"Two Hops\", \"Connected to Europe\"],\n",
    "    histtype=\"step\",\n",
    "    bins=100,\n",
    "    normed=True,\n",
    "    linewidth=3.0,\n",
    "    cumulative=True\n",
    ")\n",
    "plt.title(\"Inter-country latency cumulative histogram \\n based on submarine cable hop counts\")\n",
    "plt.xlabel('RTT Latency (ms)')\n",
    "plt.ylabel('Cumulative proportion of samples')\n",
    "plt.legend(loc='lower right')\n",
    "plt.savefig(\"cumulative_all_spectrum.png\")\n",
    "plt.show()"
   ]
  },
  {
   "cell_type": "code",
   "execution_count": null,
   "metadata": {},
   "outputs": [],
   "source": [
    "two_hop_rs = rs.filter(two_hop_filter)\n",
    "two_hop_rs_excluding_int = two_hop_rs.exclude(international_filter)\n",
    "\n",
    "plt.hist(\n",
    "    [\n",
    "        two_hop_rs.values_list('min_rtt', flat=True),\n",
    "        two_hop_rs_excluding_int.values_list('min_rtt', flat=True)\n",
    "    ],\n",
    "    label=[\"Two Hop\", \"Two Hop without International\"],\n",
    "    histtype=\"step\",\n",
    "    bins=100,\n",
    "    normed=True,\n",
    "    linewidth=3.0,\n",
    "    cumulative=True\n",
    ")\n",
    "plt.title(\"Title\")\n",
    "plt.xlabel('RTT Latency (ms)')\n",
    "plt.ylabel('Cumulative proportion of samples')\n",
    "plt.legend(loc='lower right')\n",
    "plt.savefig(\"cumulative_all_spectrum.png\")\n",
    "plt.show()"
   ]
  },
  {
   "cell_type": "code",
   "execution_count": null,
   "metadata": {},
   "outputs": [],
   "source": [
    "two_hop_rs = rs.filter(one_hop_filter)\n",
    "two_hop_rs_excluding_int = two_hop_rs.exclude(international_filter)\n",
    "\n",
    "plt.hist(\n",
    "    [\n",
    "        two_hop_rs.values_list('min_rtt', flat=True),\n",
    "        two_hop_rs_excluding_int.values_list('min_rtt', flat=True)\n",
    "    ],\n",
    "    label=[\"One Hop\", \"One Hop without International\"],\n",
    "    histtype=\"step\",\n",
    "    bins=100,\n",
    "    normed=True,\n",
    "    linewidth=3.0,\n",
    "    cumulative=True\n",
    ")\n",
    "plt.title(\"Title\")\n",
    "plt.xlabel('RTT Latency (ms)')\n",
    "plt.ylabel('Cumulative proportion of samples')\n",
    "plt.legend(loc='lower right')\n",
    "plt.savefig(\"cumulative-one_hop_only.png\")\n",
    "plt.show()"
   ]
  },
  {
   "cell_type": "code",
   "execution_count": null,
   "metadata": {},
   "outputs": [],
   "source": [
    "import operator\n",
    "\n",
    "bins = 18\n",
    "normed = True\n",
    "\n",
    "for k, cc_list in sorted(hops.items(), key=operator.itemgetter(0)):\n",
    "    hop_filter = Q()\n",
    "    for cc_tuple in cc_list:\n",
    "        hop_filter |= Q(country_origin=cc_tuple[0]) & Q(country_destination=cc_tuple[1])\n",
    "    mins = [float(r.min_rtt) for r in results.filter(min_rtt__lte=180).filter(hop_filter)]\n",
    "#     PDF\n",
    "    plt.hist(mins, label=\"%d hops\" % int(k), histtype=\"step\", bins=bins, normed=normed, linewidth=3.0)\n",
    "    \n",
    "plt.title(\"Inter-country latency histogram \\n based on submarine \\\"hop counts\\\" \\n for RTTs < 180 ms\")\n",
    "plt.xlabel('RTT Latency (ms)')\n",
    "plt.ylabel('Proportion of samples')\n",
    "plt.legend()\n",
    "plt.show()\n",
    "\n",
    "for k, cc_list in sorted(hops.items(), key=operator.itemgetter(0)):\n",
    "    hop_filter = Q()\n",
    "    for cc_tuple in cc_list:\n",
    "        hop_filter |= Q(country_origin=cc_tuple[0]) & Q(country_destination=cc_tuple[1])\n",
    "    mins = [float(r.min_rtt) for r in results.filter(min_rtt__lte=180).filter(hop_filter)]\n",
    "#     CDF\n",
    "    plt.hist(mins, label=\"%d hops\" % int(k), histtype=\"step\", bins=bins, normed=normed, linewidth=3.0, cumulative=True)\n",
    "    \n",
    "plt.title(\"Inter-country latency cumulative histogram \\n based on submarine \\\"hop counts\\\" \\n for RTTs < 180 ms\")\n",
    "plt.xlabel('RTT Latency (ms)')\n",
    "plt.ylabel('Cumulative proportion of samples')\n",
    "plt.legend()\n",
    "plt.show()"
   ]
  },
  {
   "cell_type": "markdown",
   "metadata": {},
   "source": [
    "## Latency per hop"
   ]
  },
  {
   "cell_type": "code",
   "execution_count": null,
   "metadata": {
    "scrolled": true
   },
   "outputs": [],
   "source": [
    "cc_tuples = [(r.country_origin, r.country_destination) for r in zero_hop_plus_180]\n",
    "print set(cc_tuples)"
   ]
  },
  {
   "cell_type": "code",
   "execution_count": null,
   "metadata": {
    "scrolled": true
   },
   "outputs": [],
   "source": [
    "from collections import defaultdict\n",
    "\n",
    "latency_per_hop_dict = defaultdict(defaultdict)\n",
    "for cc_o, ccs_dict in dictionary.items():\n",
    "    try:\n",
    "        _ = dictionary_landing_[cc_o.encode('utf-8')]\n",
    "    except:\n",
    "        continue\n",
    "    for cc_d, rtt in ccs_dict.items():\n",
    "        try:\n",
    "            num_hops = _[cc_d.encode('utf-8')]\n",
    "        except KeyError as ke:\n",
    "            continue\n",
    "            print \"Didn't find a landing point for %s %s %s\" % (cc_o, cc_d, rtt)\n",
    "        latency_per_hop_dict[cc_o][cc_d] = 1.0*rtt / (num_hops+1)\n",
    "\n",
    "title = \"Africa latency per submarine hop heatmap [ms/hop] \\n\"\n",
    "build_heatmap(latency_per_hop_dict, filename=\"heatmap-latency_per_hop\", plot_text=True, _max=600, sort=cluster_sort, banned=[], title=title)"
   ]
  },
  {
   "cell_type": "code",
   "execution_count": null,
   "metadata": {
    "scrolled": false
   },
   "outputs": [],
   "source": [
    "import operator\n",
    "\n",
    "latency_per_hop_tuples = []\n",
    "for cc_o, lph_dict in latency_per_hop_dict.items():\n",
    "    for cc_d, rtt_ph in lph_dict.items():\n",
    "        latency_per_hop_tuples.append((cc_o, cc_d, rtt_ph))\n",
    "latency_per_hop_tuples_sorted = sorted(latency_per_hop_tuples, key=operator.itemgetter(2))\n",
    "above_180 = [lph for lph in latency_per_hop_tuples_sorted if lph[2]>180]\n",
    "len(above_180)\n",
    "\n",
    "print 1.0*len(above_180) / len(latency_per_hop_tuples_sorted)"
   ]
  },
  {
   "cell_type": "markdown",
   "metadata": {},
   "source": [
    "# Hop-sorting the matrix"
   ]
  },
  {
   "cell_type": "code",
   "execution_count": null,
   "metadata": {
    "scrolled": false
   },
   "outputs": [],
   "source": [
    "def hop_sort(key):\n",
    "        INVALID = 10\n",
    "        try:\n",
    "            cc_hops = dictionary_landing_[key].values()\n",
    "            return 1.0*sum(cc_hops) / len(cc_hops)\n",
    "        except:\n",
    "            return INVALID\n",
    "        \n",
    "banned_list = ['CF', 'SO', 'SN', 'SZ', 'TD', 'ZM', 'LR', 'NE', 'YT']\n",
    "build_heatmap(dictionary, filename=\"test-hop_sort.png\", plot_text=True, _max=500, sort=cluster_sort, banned=banned_list)"
   ]
  },
  {
   "cell_type": "markdown",
   "metadata": {},
   "source": [
    "# Some overall stats of the latency dataset"
   ]
  },
  {
   "cell_type": "code",
   "execution_count": null,
   "metadata": {},
   "outputs": [],
   "source": [
    "os = set(results.values_list('country_origin', flat=True))\n",
    "ds = set(results.values_list('country_destination', flat=True))\n",
    "print len(os), len(ds), len(Country.objects.get_afrinic_countrycodes())"
   ]
  },
  {
   "cell_type": "code",
   "execution_count": null,
   "metadata": {},
   "outputs": [],
   "source": [
    "t0 = results.order_by('-date_test')[0].date_test\n",
    "t1 = results.order_by('date_test')[0].date_test"
   ]
  },
  {
   "cell_type": "code",
   "execution_count": null,
   "metadata": {},
   "outputs": [],
   "source": [
    "print t0 - t1"
   ]
  },
  {
   "cell_type": "code",
   "execution_count": null,
   "metadata": {},
   "outputs": [],
   "source": [
    "cc = 'ZA'\n",
    "results.exclude(asymmetry_filter).filter(Q(country_origin=cc) | Q(country_destination=cc)).\\\n",
    "    values_list('as_origin', flat=True).\\\n",
    "    distinct('as_origin').\\\n",
    "    count()"
   ]
  },
  {
   "cell_type": "code",
   "execution_count": null,
   "metadata": {},
   "outputs": [],
   "source": [
    "from django.db.models import Q\n",
    "\n",
    "networks = defaultdict(int)\n",
    "total = 0\n",
    "countries = african_ccs\n",
    "for cc in countries:\n",
    "    n = results.exclude(asymmetry_filter).filter(Q(country_origin=cc) | Q(country_destination=cc)).\\\n",
    "    values_list('as_origin', flat=True).\\\n",
    "    distinct('as_origin').\\\n",
    "    count()\n",
    "    \n",
    "    networks[cc.encode('utf-8')] = n\n",
    "    total += n\n",
    "networks_sorted = sorted(networks.items(), key=operator.itemgetter(1), reverse=True)\n",
    "print total, networks, len(networks), len([n for n in networks if n[1] >= 10])"
   ]
  },
  {
   "cell_type": "code",
   "execution_count": null,
   "metadata": {},
   "outputs": [],
   "source": [
    "plt.figure(figsize=(2.0, 2.0))\n",
    "net_limit = 10\n",
    "sizes = [n[1] for n in networks_sorted if n[1]>=net_limit]\n",
    "sizes.append(sum([n[1] for n in networks_sorted if n[1]<net_limit]))\n",
    "others = sum([rs[1] for rs in networks_sorted if rs[1]<res_limit])\n",
    "\n",
    "labels = [n[0] for n in networks_sorted if n[1]>=net_limit]\n",
    "labels.append('Others')\n",
    "colors = [plt.cm.Blues(int((1.0*s/max(sizes[:-1]))*255)) for s in sizes[:-1]]\n",
    "colors.append(plt.cm.Blues(64))\n",
    "\n",
    "plt.pie(\n",
    "    sizes,\n",
    "    labels=labels,\n",
    "    colors=colors,\n",
    "#     autopct='%1.0f%%',\n",
    "    shadow=False,\n",
    "    startangle=45,\n",
    "    labeldistance=1.2,\n",
    "#     pctdistance=1.2\n",
    ")\n",
    "# networks['Others'] = sum([n[1] for n in networks_sorted if n[1]<net_limit])\n",
    "legends = [\"%s (%.12s), %d nets\" % (l, Country.objects.get_or_none(iso=l), networks[l]) for l in labels]\n",
    "legends = legends[:-1]\n",
    "legends.append(\"Others, 162 nets\")\n",
    "plt.legend(\n",
    "    legends,\n",
    "    loc='upper right',\n",
    "    prop={\n",
    "        'size':8\n",
    "    },\n",
    "    bbox_to_anchor=(2.4, 1.2)\n",
    ")\n",
    "# Set aspect ratio to be equal so that pie is drawn as a circle.\n",
    "plt.axis('equal')\n",
    "plt.title(\"Amount of networks covered \\n per country \\n\")\n",
    "plt.savefig(\"pie-representativeness.png\", dpi=700)\n",
    "plt.show()"
   ]
  },
  {
   "cell_type": "code",
   "execution_count": null,
   "metadata": {},
   "outputs": [],
   "source": [
    "from django.db.models import Q\n",
    "\n",
    "countries = african_ccs\n",
    "results_stats = defaultdict(int)\n",
    "total = 0\n",
    "for cc in countries:\n",
    "    n = results.filter(Q(country_origin=cc) | Q(country_destination=cc)).count()\n",
    "    results_stats[cc.encode('utf-8')] = n\n",
    "    total += n\n",
    "results_stats_sorted = sorted(results_stats.items(), key=operator.itemgetter(1), reverse=True)\n",
    "print total, results_stats_sorted, len([rs for rs in results_stats_sorted if rs[1] >= 100])"
   ]
  },
  {
   "cell_type": "code",
   "execution_count": null,
   "metadata": {},
   "outputs": [],
   "source": [
    "plt.figure(figsize=(2.0, 2.0))\n",
    "res_limit = 7000\n",
    "sizes = [rs[1] for rs in results_stats_sorted if rs[1]>=res_limit]\n",
    "sizes.append(sum([rs[1] for rs in results_stats_sorted if rs[1]<res_limit]))\n",
    "others = sum([rs[1] for rs in results_stats_sorted if rs[1]<res_limit])\n",
    "\n",
    "labels = [rs[0] for rs in results_stats_sorted if rs[1]>=res_limit]\n",
    "labels.append('Others')\n",
    "colors = [plt.cm.Blues(int((1.0*s/max(sizes[:-1]))*255)) for s in sizes[:-1]]\n",
    "colors.append(plt.cm.Blues(64))\n",
    "\n",
    "plt.pie(\n",
    "    sizes,\n",
    "    labels=labels,\n",
    "    colors=colors,\n",
    "#     autopct='%1.0f%%',\n",
    "    shadow=False,\n",
    "    startangle=45,\n",
    "    labeldistance=1.2,\n",
    "#     pctdistance=1.2\n",
    ")\n",
    "legends = [\"%s (%.12s), %d k results\" % (l, Country.objects.get_or_none(iso=l), results_stats[l] / 1000.0) for l in labels]\n",
    "legends = legends[:-1]\n",
    "legends.append(\"Others, %d k results\" % (others/1000.0))\n",
    "plt.legend(\n",
    "    legends,\n",
    "    loc='upper right',\n",
    "    prop={\n",
    "        'size':8\n",
    "    },\n",
    "    bbox_to_anchor=(1.2, -0.2)\n",
    ")\n",
    "# Set aspect ratio to be equal so that pie is drawn as a circle.\n",
    "plt.axis('equal')\n",
    "plt.title(\"Results quota by country \\n\")\n",
    "plt.savefig(\"pie-results_representativeness.png\", dpi=700)\n",
    "plt.show()"
   ]
  },
  {
   "cell_type": "code",
   "execution_count": null,
   "metadata": {},
   "outputs": [],
   "source": [
    "from collections import defaultdict\n",
    "\n",
    "population = defaultdict(dict)\n",
    "for rc in rcs:\n",
    "    cc = rc['alpha2Code']\n",
    "    cc_res = results_stats[cc]\n",
    "    if cc_res == 0: continue\n",
    "    population[cc]['population'] = rc['population']\n",
    "    population[cc]['results'] = cc_res\n",
    "    \n",
    "plt.scatter(\n",
    "    [d['population'] for cc, d in population.items()], [d['results'] for cc, d in population.items()]\n",
    ")\n",
    "plt.xlim(0, 1E8)\n",
    "plt.ylim(0, 20E3)\n",
    "plt.show()"
   ]
  },
  {
   "cell_type": "code",
   "execution_count": null,
   "metadata": {},
   "outputs": [],
   "source": [
    "[Country.objects.get(iso=cc).printable_name.encode('utf-8') for cc in banned_list]"
   ]
  },
  {
   "cell_type": "code",
   "execution_count": null,
   "metadata": {
    "scrolled": false
   },
   "outputs": [],
   "source": [
    "import json\n",
    "from collections import defaultdict\n",
    "\n",
    "probes_stats = defaultdict(int)\n",
    "with open(\"probes\") as probes:\n",
    "    \n",
    "    total = 0\n",
    "    \n",
    "    for probe in json.loads(probes.read())['GetCountriesResult']:\n",
    "        cc = probe['CountryCode']\n",
    "        count = probe['ProbesCount']\n",
    "        if cc in african_ccs:\n",
    "            total += count\n",
    "            probes_stats[cc] = count\n",
    "probes_stats_sorted = sorted(probes_stats.items(), key=operator.itemgetter(1), reverse=True)\n",
    "    \n",
    "plt.figure(figsize=(2.0, 2.0))\n",
    "res_limit = 20\n",
    "sizes = [rs[1] for rs in probes_stats_sorted if rs[1]>=res_limit]\n",
    "sizes.append(sum([rs[1] for rs in probes_stats_sorted if rs[1]<res_limit]))\n",
    "others = sum([rs[1] for rs in probes_stats_sorted if rs[1]<res_limit])\n",
    "\n",
    "labels = [rs[0] for rs in probes_stats_sorted if rs[1]>=res_limit]\n",
    "labels.append('Others')\n",
    "colors = [plt.cm.Blues(int((1.0*s/max(sizes[:-1]))*255)) for s in sizes[:-1]]\n",
    "colors.append(plt.cm.Blues(64))\n",
    "\n",
    "plt.pie(\n",
    "    sizes,\n",
    "    labels=labels,\n",
    "    colors=colors,\n",
    "#     autopct='%1.0f%%',\n",
    "    shadow=False,\n",
    "    startangle=45,\n",
    "    labeldistance=1.2,\n",
    "#     pctdistance=1.2\n",
    ")\n",
    "legends = [\"%s (%.12s), %d probes\" % (l, Country.objects.get_or_none(iso=l), probes_stats[l]) for l in labels]\n",
    "legends = legends[:-1]\n",
    "legends.append(\"Others, %d probes\" % others)\n",
    "plt.legend(\n",
    "    legends,\n",
    "    loc='upper right',\n",
    "    prop={\n",
    "        'size':8\n",
    "    },\n",
    "    bbox_to_anchor=(1.2, -0.2)\n",
    ")\n",
    "# Set aspect ratio to be equal so that pie is drawn as a circle.\n",
    "plt.axis('equal')\n",
    "plt.title(\"Probe count by country \\n (at 14th Oct. 15.00 GMT +2) \\n\")\n",
    "plt.savefig(\"pie-probes_representativeness.png\", dpi=700)\n",
    "plt.show()"
   ]
  },
  {
   "cell_type": "code",
   "execution_count": null,
   "metadata": {
    "collapsed": true
   },
   "outputs": [],
   "source": []
  }
 ],
 "metadata": {
  "kernelspec": {
   "display_name": "Python 2",
   "language": "python",
   "name": "python2"
  },
  "language_info": {
   "codemirror_mode": {
    "name": "ipython",
    "version": 2
   },
   "file_extension": ".py",
   "mimetype": "text/x-python",
   "name": "python",
   "nbconvert_exporter": "python",
   "pygments_lexer": "ipython2",
   "version": "2.7.14"
  }
 },
 "nbformat": 4,
 "nbformat_minor": 1
}
